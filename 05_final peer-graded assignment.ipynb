{
 "cells": [
  {
   "cell_type": "markdown",
   "id": "283051e9",
   "metadata": {},
   "source": [
    "# Data Science Tools and Ecosystem"
   ]
  },
  {
   "cell_type": "markdown",
   "id": "3200d8d5",
   "metadata": {},
   "source": [
    "## Introduction\n",
    "In this notebook, we summarize some of the key tools, libraries, and languages used in data science. \n",
    "We will also demonstrate simple arithmetic expressions in Python.\n"
   ]
  },
  {
   "cell_type": "markdown",
   "id": "dc7f0184",
   "metadata": {},
   "source": [
    "## Data Science Languages\n",
    "Some popular languages used by Data Scientists include:\n",
    "- Python\n",
    "- R\n",
    "- SQL\n",
    "- Julia\n",
    "- Scala\n"
   ]
  },
  {
   "cell_type": "markdown",
   "id": "53066742",
   "metadata": {},
   "source": [
    "## Data Science Libraries\n",
    "Some commonly used libraries for Data Science are:\n",
    "- Pandas\n",
    "- NumPy\n",
    "- Matplotlib\n",
    "- Scikit-learn\n",
    "- TensorFlow\n"
   ]
  },
  {
   "cell_type": "markdown",
   "id": "e6975585",
   "metadata": {},
   "source": [
    "## Data Science Tools\n",
    "| Tool           | Category         |\n",
    "|----------------|------------------|\n",
    "| Jupyter Notebook | Notebook Environment |\n",
    "| RStudio        | IDE              |\n",
    "| Apache Spark   | Big Data Processing |\n",
    "| TensorFlow     | Machine Learning |\n"
   ]
  },
  {
   "cell_type": "markdown",
   "id": "be8262d1",
   "metadata": {},
   "source": [
    "## Arithmetic Expressions\n",
    "Below are some examples of evaluating arithmetic expressions in Python.\n"
   ]
  },
  {
   "cell_type": "code",
   "execution_count": 3,
   "id": "4d923d20",
   "metadata": {},
   "outputs": [
    {
     "data": {
      "text/plain": [
       "17"
      ]
     },
     "execution_count": 3,
     "metadata": {},
     "output_type": "execute_result"
    }
   ],
   "source": [
    "# Multiply and Add Numbers\n",
    "(3 * 4) + 5\n"
   ]
  },
  {
   "cell_type": "code",
   "execution_count": 4,
   "id": "bf0d66f1",
   "metadata": {},
   "outputs": [
    {
     "data": {
      "text/plain": [
       "3.3333333333333335"
      ]
     },
     "execution_count": 4,
     "metadata": {},
     "output_type": "execute_result"
    }
   ],
   "source": [
    "# Convert 200 minutes into hours\n",
    "minutes = 200\n",
    "hours = minutes / 60\n",
    "hours\n"
   ]
  },
  {
   "cell_type": "markdown",
   "id": "208c957d",
   "metadata": {},
   "source": [
    "## Objectives\n",
    "- List popular languages used in Data Science\n",
    "- Introduce common libraries\n",
    "- Create a table of Data Science Tools\n",
    "- Perform basic arithmetic expressions using Python\n",
    "- Convert minutes to hours using Python code\n"
   ]
  },
  {
   "cell_type": "markdown",
   "id": "2ad94d80",
   "metadata": {},
   "source": [
    "## Author\n",
    "**Name:** Adarsh Prajapati\n"
   ]
  }
 ],
 "metadata": {
  "kernelspec": {
   "display_name": "Python 3",
   "language": "python",
   "name": "python3"
  },
  "language_info": {
   "codemirror_mode": {
    "name": "ipython",
    "version": 3
   },
   "file_extension": ".py",
   "mimetype": "text/x-python",
   "name": "python",
   "nbconvert_exporter": "python",
   "pygments_lexer": "ipython3",
   "version": "3.13.1"
  }
 },
 "nbformat": 4,
 "nbformat_minor": 5
}
